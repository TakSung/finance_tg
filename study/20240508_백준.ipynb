{
 "cells": [
  {
   "cell_type": "code",
   "execution_count": null,
   "metadata": {},
   "outputs": [],
   "source": [
    "from selenium import webdriver\n",
    "from selenium.webdriver.chrome.service import Service\n",
    "from webdriver_manager.chrome import ChromeDriverManager\n",
    "from selenium.webdriver.chrome.options import Options\n",
    "from markdownify import markdownify\n",
    "from icecream import ic\n",
    "from bs4 import BeautifulSoup\n",
    "import os\n",
    "import argparse"
   ]
  },
  {
   "cell_type": "code",
   "execution_count": null,
   "metadata": {},
   "outputs": [],
   "source": [
    "# Chrome WebDriver 다운로드 및 관리\n",
    "service = Service(ChromeDriverManager().install())"
   ]
  },
  {
   "cell_type": "code",
   "execution_count": null,
   "metadata": {},
   "outputs": [],
   "source": [
    "def get_driver_source(url):\n",
    "    # Selenium 웹 드라이버 설정\n",
    "    options = Options()\n",
    "    # options.add_argument('--headless')  # 브라우저를 표시하지 않고 실행\n",
    "\n",
    "    # Chrome WebDriver 시작\n",
    "    driver = webdriver.Chrome(service=service, options=options)\n",
    "\n",
    "    # 페이지 열기\n",
    "    driver.get(url)\n",
    "\n",
    "    # 페이지 소스 가져오기\n",
    "    page_source = driver.page_source\n",
    "\n",
    "    # 웹 드라이버 종료\n",
    "    driver.quit()\n",
    "\n",
    "    return page_source"
   ]
  },
  {
   "cell_type": "code",
   "execution_count": null,
   "metadata": {},
   "outputs": [],
   "source": [
    "def replace_str(text):\n",
    "    index = text.find(\"힌트\")\n",
    "    if index != -1:\n",
    "        # \"힌트\" 이후의 문자열을 삭제\n",
    "        new_text = text[:index]  # \"힌트\" 이후의 모든 문자열을 삭제\n",
    "    else:\n",
    "        new_text = text[:]\n",
    "    new_text = new_text.replace(\" 복사\\n-----------\\n\\n\\n\\n\\n```\", \"```css\")\n",
    "    new_text = new_text.replace(\"\\n\\n```\", \"\\n```\")\n",
    "    new_text = new_text.replace(\"\\n\\n\\n\\n\", \"\\n\\n\")\n",
    "    new_text = new_text.replace(\"\\n\\n\\n\", \"\\n\")\n",
    "    new_text = new_text.replace(\"예제\", \"### 예제\")\n",
    "    return new_text"
   ]
  },
  {
   "cell_type": "code",
   "execution_count": null,
   "metadata": {},
   "outputs": [],
   "source": [
    "def make_markdown_file(filename, contents):\n",
    "    # Markdown 파일 생성 및 내용 쓰기\n",
    "    with open(filename, \"w\", encoding=\"utf-8\") as file:\n",
    "        file.write(contents + \"\\n\\n\")\n",
    "    print(f\"Markdown 파일 '{filename}'이 생성되었습니다.\")"
   ]
  },
  {
   "cell_type": "code",
   "execution_count": null,
   "metadata": {},
   "outputs": [],
   "source": [
    "problem_number = 10808\n",
    "target_path = \".\"\n",
    "\n",
    "# 백준 문제 페이지 URL\n",
    "url = f\"https://www.acmicpc.net/problem/{problem_number}\"\n",
    "\n",
    "try:\n",
    "    page_source = get_driver_source(url)\n",
    "except:\n",
    "    try:\n",
    "        page_source = get_driver_source(url)    \n",
    "    except:\n",
    "        raise ValueError()\n",
    "try:\n",
    "    remaked_source = remake_html_source(page_source)\n",
    "except ValueError:\n",
    "    ic(problem_number, \"error remake_html_source\")\n",
    "    remaked_source = None\n",
    "\n",
    "if remaked_source is None:\n",
    "    ic(problem_number)\n",
    "    make_markdown_file(f\"error_{problem_number}.txt\", page_source)\n",
    "    raise ValueError()\n",
    "markdown_text = markdownify(remaked_source)\n",
    "\n",
    "postprocess_text = replace_str(markdown_text)\n",
    "make_markdown_file(target_path, postprocess_text)"
   ]
  }
 ],
 "metadata": {
  "language_info": {
   "name": "python"
  }
 },
 "nbformat": 4,
 "nbformat_minor": 2
}

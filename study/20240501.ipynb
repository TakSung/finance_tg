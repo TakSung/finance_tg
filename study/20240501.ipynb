{
 "cells": [
  {
   "cell_type": "code",
   "execution_count": null,
   "metadata": {},
   "outputs": [],
   "source": [
    "import requests\n",
    "import pandas as pd\n",
    "from bs4 import BeautifulSoup as bs\n",
    "\n",
    "import time"
   ]
  },
  {
   "cell_type": "code",
   "execution_count": null,
   "metadata": {},
   "outputs": [],
   "source": [
    "def load_source(url):\n",
    "    main_url = \"https://www.aladin.co.kr\"\n",
    "    res = requests.get(main_url + url)\n",
    "    html = res.text\n",
    "    soup = bs(html, \"html.parser\")\n",
    "    return soup"
   ]
  },
  {
   "cell_type": "code",
   "execution_count": null,
   "metadata": {},
   "outputs": [],
   "source": [
    "first_url = \"/shop/common/wbest.aspx?\" \"BranchType=1&start=we\"\n",
    "soup = load_source(first_url)"
   ]
  },
  {
   "cell_type": "code",
   "execution_count": null,
   "metadata": {},
   "outputs": [],
   "source": [
    "# 페이지 링크 수집\n",
    "page_link = []\n",
    "page_link.append(first_url)\n",
    "for p in soup.find(class_=\"megaseller_rank\").find_all(\"a\")[1:-1]:\n",
    "    page_link.append(p.get(\"href\"))"
   ]
  },
  {
   "cell_type": "code",
   "execution_count": null,
   "metadata": {},
   "outputs": [],
   "source": [
    "# 책 정보 수집\n",
    "books = []\n",
    "for link in page_link:\n",
    "    soup = load_source(link)\n",
    "    book_list = soup.find_all(class_=\"ss_book_box\")\n",
    "    for book_info in book_list:\n",
    "        book = {}\n",
    "        book[\"img_src\"] = book_info.img.get(\"src\")\n",
    "        book[\"link_addr\"] = book_info.find(class_=\"bo3\").get(\"href\")\n",
    "        book[\"book_title\"] = book_info.find(class_=\"bo3\").text\n",
    "        books.append(book)"
   ]
  },
  {
   "cell_type": "code",
   "execution_count": null,
   "metadata": {},
   "outputs": [],
   "source": [
    "# 데이터프레임으로 변환\n",
    "df = pd.DataFrame(books)"
   ]
  },
  {
   "cell_type": "code",
   "execution_count": null,
   "metadata": {},
   "outputs": [],
   "source": [
    "# CSV 파일로 저장\n",
    "df.to_csv(\"aladdin_bestseller.csv\", index=False)"
   ]
  }
 ],
 "metadata": {
  "language_info": {
   "name": "python"
  }
 },
 "nbformat": 4,
 "nbformat_minor": 2
}
